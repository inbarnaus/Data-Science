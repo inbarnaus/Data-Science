{
  "nbformat": 4,
  "nbformat_minor": 0,
  "metadata": {
    "colab": {
      "name": "Copy_number_sensitive_genomic_regions-2.ipynb",
      "provenance": [],
      "collapsed_sections": []
    },
    "kernelspec": {
      "name": "python3",
      "display_name": "Python 3"
    }
  },
  "cells": [
    {
      "cell_type": "markdown",
      "metadata": {
        "id": "ukg90JpEFS2r"
      },
      "source": [
        "##  **Copy Number Variation (CNV)**\n",
        "A copy number variation (CNV) is when the number of copies of a particular gene varies from one individual to the next. Following the completion of the Human Genome Project, it became apparent that the genome experiences gains and losses of genetic material. The extent to which copy number variation contributes to human disease is not yet known. It has long been recognized that some cancers are associated with elevated copy numbers of particular genes."
      ]
    },
    {
      "cell_type": "markdown",
      "metadata": {
        "id": "DlyV6jBgGd3y"
      },
      "source": [
        "Copy number variation is a type of structural variation where you have a stretch of DNA, which is duplicated in some people, and sometimes even triplicated or quadruplicated. And so when you look at that chromosomal region, you will see a variation in the number of copies in normal people. Sometimes those copy number variants include genes, maybe several genes, which may mean that this person has four copies of that gene instead of the usual two, and somebody else has three, and somebody else has five. Interesting, we didn't really expect to see so much of that. It's now turning out to be pretty common, and in some instances, if those genes are involved in functions that are sensitive to the dosage, you might then see a consequence in terms of a disease risk.\n",
        "\n",
        "Francis S. Collins, M.D., Ph.D. "
      ]
    },
    {
      "cell_type": "code",
      "metadata": {
        "id": "bR8JkvYWMLRH"
      },
      "source": [
        "import sys\n",
        "from os import listdir\n",
        "import pandas as pd\n",
        "import numpy as np\n",
        "\n",
        "import matplotlib.pyplot as plt\n",
        "from matplotlib.lines import Line2D # Imported for legends\n",
        "import matplotlib.cm as cm\n",
        "from matplotlib.collections import LineCollection"
      ],
      "execution_count": null,
      "outputs": []
    },
    {
      "cell_type": "code",
      "metadata": {
        "id": "xwR6Ocw-T_F0",
        "outputId": "e4eec497-54ef-4eef-f937-9213ab9852d2",
        "colab": {
          "base_uri": "https://localhost:8080/",
          "height": 122
        }
      },
      "source": [
        "from google.colab import drive\n",
        "drive.mount('/content/drive')"
      ],
      "execution_count": null,
      "outputs": [
        {
          "output_type": "stream",
          "text": [
            "Go to this URL in a browser: https://accounts.google.com/o/oauth2/auth?client_id=947318989803-6bn6qk8qdgf4n4g3pfee6491hc0brc4i.apps.googleusercontent.com&redirect_uri=urn%3aietf%3awg%3aoauth%3a2.0%3aoob&response_type=code&scope=email%20https%3a%2f%2fwww.googleapis.com%2fauth%2fdocs.test%20https%3a%2f%2fwww.googleapis.com%2fauth%2fdrive%20https%3a%2f%2fwww.googleapis.com%2fauth%2fdrive.photos.readonly%20https%3a%2f%2fwww.googleapis.com%2fauth%2fpeopleapi.readonly\n",
            "\n",
            "Enter your authorization code:\n",
            "··········\n",
            "Mounted at /content/drive\n"
          ],
          "name": "stdout"
        }
      ]
    },
    {
      "cell_type": "code",
      "metadata": {
        "id": "pEbdYfJpKzoN"
      },
      "source": [
        "path_BRCA = '/content/drive/My Drive/Copy number sensitive genomic regions/TCGA-BRCA' \n",
        "path_DLBC = '/content/drive/My Drive/Copy number sensitive genomic regions/TCGA-DLBC'"
      ],
      "execution_count": null,
      "outputs": []
    },
    {
      "cell_type": "code",
      "metadata": {
        "id": "Dap91bbgXMhF"
      },
      "source": [
        "# get all datasets as objects\n",
        "def get_data_as_objects_from_files(path,N):\n",
        "    dirs= listdir(path)\n",
        "    objects=[]\n",
        "    for i in range(0,N):\n",
        "        dir = dirs[i]\n",
        "        if not dir.endswith('.txt'): continue\n",
        "        input=path+'/'+dir\n",
        "        name = dir.split('.txt')[0]\n",
        "        with open(input, 'r') as in_file:\n",
        "            dataObject=[]\n",
        "            lines = in_file.readlines()\n",
        "            header = lines[0].split('\\t')\n",
        "            lines = lines[1:]\n",
        "            for line in lines:\n",
        "                line_array = line.split('\\t')\n",
        "                obj = {'id':line_array[0] , 'Chromosome':line_array[1] ,'Start':line_array[2], 'End':line_array[3] , 'Copy_Number':line_array[4]}\n",
        "                dataObject.append(obj)\n",
        "\n",
        "            objects.append(dataObject)\n",
        "    return objects"
      ],
      "execution_count": null,
      "outputs": []
    },
    {
      "cell_type": "code",
      "metadata": {
        "id": "TuJq4xLtXPSw"
      },
      "source": [
        "# get all intersection of two arrays\n",
        "def intersections(a,b):\n",
        "    ranges = []\n",
        "    i = j = 0\n",
        "    while i < len(a) and j < len(b):\n",
        "        a_left, a_right = a[i]\n",
        "        b_left, b_right = b[j]\n",
        "        if a_right < b_right:\n",
        "            i += 1\n",
        "        else:\n",
        "            j += 1\n",
        "        if a_right >= b_left and b_right >= a_left:\n",
        "            end_pts = sorted([a_left, a_right, b_left, b_right])\n",
        "            middle = [end_pts[1], end_pts[2]]\n",
        "            ranges.append(middle)\n",
        "    ri = 0\n",
        "    while ri < len(ranges)-1:\n",
        "        if ranges[ri][1] == ranges[ri+1][0]:\n",
        "            ranges[ri:ri+2] = [[ranges[ri][0], ranges[ri+1][1]]]\n",
        "\n",
        "        ri += 1\n",
        "    return ranges\n"
      ],
      "execution_count": null,
      "outputs": []
    },
    {
      "cell_type": "code",
      "metadata": {
        "id": "IQU8tTs6XRr8"
      },
      "source": [
        "# filter sections of chromosome i by copy number\n",
        "def filter_range_of_chromosome_i_by_copyNumber(i,cn,person):\n",
        "    ranges= [[int(row['Start']),int(row['End'])] for row in person if (row['Chromosome'] == 'chr'+str(i)) and int(row['Copy_Number']) == cn]\n",
        "    return ranges"
      ],
      "execution_count": null,
      "outputs": []
    },
    {
      "cell_type": "code",
      "metadata": {
        "id": "2MXgPTMtXUps"
      },
      "source": [
        "# get all sections of all persons by copy number cn\n",
        "def get_all_ranges_by_copyNumber(data,cn):\n",
        "    persons_chromosome_sections = []\n",
        "    for person in data:\n",
        "        person_chromosome_sections = []\n",
        "        for i in range(1,23): # 22 chromosomes chr i\n",
        "            sections =filter_range_of_chromosome_i_by_copyNumber(i,cn,person)\n",
        "            person_chromosome_sections.append({'chr':i , 'sections':sections})\n",
        "        sections = filter_range_of_chromosome_i_by_copyNumber('X', cn, person)\n",
        "        person_chromosome_sections.append({'chr': 'X', 'sections': sections})\n",
        "        sections = filter_range_of_chromosome_i_by_copyNumber('Y', cn, person)\n",
        "        person_chromosome_sections.append({'chr': 'Y', 'sections': sections})\n",
        "\n",
        "        persons_chromosome_sections.append(person_chromosome_sections)\n",
        "    return persons_chromosome_sections"
      ],
      "execution_count": null,
      "outputs": []
    },
    {
      "cell_type": "code",
      "metadata": {
        "id": "Tr4Ceg8JXZmy"
      },
      "source": [
        "def intersections_all_chomosomes_sections(persons_chromosome_sections):\n",
        "    intersections_by_chr=[]\n",
        "    for i in range(0,24):\n",
        "        chr = str(i+1) if i<=21 else ('X' if i == 22 else 'Y')\n",
        "        acc = [[1, sys.maxsize]]\n",
        "        for person in persons_chromosome_sections:\n",
        "            acc = intersections(acc, person[i]['sections'])\n",
        "        intersections_by_chr.append({'chr':chr , 'sections':acc})\n",
        "    return intersections_by_chr"
      ],
      "execution_count": null,
      "outputs": []
    },
    {
      "cell_type": "code",
      "metadata": {
        "id": "FngcMqhHfnWm"
      },
      "source": [
        "def split_into_groups(n,data):\n",
        "    sets = [data[i * n:(i + 1) * n] for i in range(len(data) // n)]\n",
        "    return sets\n",
        "      "
      ],
      "execution_count": null,
      "outputs": []
    },
    {
      "cell_type": "code",
      "metadata": {
        "id": "BcDm4x-Se2sb"
      },
      "source": [
        "def data_to_intervals(data):\n",
        "    inter = []\n",
        "    for row in data:\n",
        "        sections = []\n",
        "        for sec in row['sections']:\n",
        "            sections.append((sec[0],sec[1]))\n",
        "        inter.append({'chr':row['chr'] , 'sections':sections})\n",
        "    return inter"
      ],
      "execution_count": null,
      "outputs": []
    },
    {
      "cell_type": "code",
      "metadata": {
        "id": "rf3HUV5PjPFw"
      },
      "source": [
        "# Adding the legends\n",
        "def make_proxy(col, scalar_mappable, **kwargs):\n",
        "  return Line2D([0, 1], [0, 1], color=col, **kwargs)\n",
        "\n",
        "def make_line_plot(sections, title):\n",
        "  intervals = sections\n",
        "  intervals = [np.array(sec).tolist() for sec in intervals]\n",
        "  num_intervals = len(intervals)\n",
        "  viridis = plt.cm.get_cmap('viridis', num_intervals)\n",
        "  colors = np.array([viridis(idx / num_intervals) for idx in range(len(intervals)*4)])\n",
        "\n",
        "  fig, ax = plt.subplots()\n",
        "  lines = []\n",
        "  color = 1\n",
        "  lc = []\n",
        "  chr_num=[]\n",
        "  proxies = []\n",
        "  for x in intervals:\n",
        "    if (len(x) > 0):\n",
        "      chr_num.append(intervals.index(x))\n",
        "      for intv in x:\n",
        "        lc1 = LineCollection([[(intv[0], intervals.index(x)), (intv[1], intervals.index(x))]], colors= colors[color], linewidths=4)\n",
        "        ax.add_collection(lc1)\n",
        "        lc.append(lc1)\n",
        "      proxies.append(make_proxy(colors[color], lc, linewidth=2))\n",
        "      lc=[]\n",
        "      color+=1;\n",
        "\n",
        "  ax.margins(0.1)\n",
        "  plt.yticks(np.arange(0, 25, step=1))\n",
        "  plt.title(title)\n",
        "\n",
        "  ax.legend(proxies, ['chr'+str(x+1) for x in chr_num])"
      ],
      "execution_count": null,
      "outputs": []
    },
    {
      "cell_type": "code",
      "metadata": {
        "id": "baKXHCyJG4Fq"
      },
      "source": [
        "def get_data(path, num):\n",
        "  data = get_data_as_objects_from_files(path,num)\n",
        "  persons_chromosome_sections = get_all_ranges_by_copyNumber(data,2)\n",
        "  intersection = intersections_all_chomosomes_sections(persons_chromosome_sections)\n",
        "  # call to plot\n",
        "  data = data_to_intervals(intersection)\n",
        "  data_df = pd.DataFrame(data)\n",
        "  return data_df;"
      ],
      "execution_count": null,
      "outputs": []
    },
    {
      "cell_type": "code",
      "metadata": {
        "id": "c5C3-TaydFp3"
      },
      "source": [
        "def get_num_of_overlaps(df):\n",
        "  intervals = df['sections']\n",
        "  intervals = [np.array(sec).tolist() for sec in intervals]\n",
        "  \n",
        "  count = 0\n",
        "  for inv in intervals:\n",
        "    if (len(inv) > 0):\n",
        "      for e in inv:\n",
        "        count += e[1] - e[0]\n",
        "  return count"
      ],
      "execution_count": null,
      "outputs": []
    },
    {
      "cell_type": "code",
      "metadata": {
        "id": "gf7z6QB9MXy7"
      },
      "source": [
        "def get_cnvs(data):\n",
        "    cnvs=[]\n",
        "    for subject in data:\n",
        "        for row in subject:\n",
        "            val = int(row['Copy_Number'])\n",
        "            cnvs.append(val)\n",
        "    return cnvs"
      ],
      "execution_count": null,
      "outputs": []
    },
    {
      "cell_type": "code",
      "metadata": {
        "id": "Jk9hBXUDHj72"
      },
      "source": [
        "def data_analysis(data):\n",
        "    total = 0\n",
        "    cns = [0, 0, 0, 0, 0, 0]\n",
        "    for subject in data:\n",
        "        for row in subject:\n",
        "            val = int(row['Copy_Number'])\n",
        "            if val < 5:\n",
        "                cns[val] += float(row['End']) - float(row['Start'])\n",
        "            else:\n",
        "                cns[5] += float(row['End']) - float(row['Start'])\n",
        "    total = cns[0] +cns[1] + cns[2]+ cns[3] + cns[4] + cns[5]\n",
        "    return cns , total"
      ],
      "execution_count": null,
      "outputs": []
    },
    {
      "cell_type": "code",
      "metadata": {
        "id": "YADaJV04uuoc"
      },
      "source": [
        "def intersections_all_chomosomes_sections2(persons_chromosome_sections):\n",
        "    inter=[]\n",
        "    acc = [[1, sys.maxsize]]\n",
        "    for person in persons_chromosome_sections:\n",
        "        acc = intersections(acc, person)\n",
        "    return acc"
      ],
      "execution_count": null,
      "outputs": []
    },
    {
      "cell_type": "code",
      "metadata": {
        "id": "kHyHq7ygy_EI"
      },
      "source": [
        "def get_by_id(id,data):\n",
        "    for o in data:\n",
        "        if o[0]['id'] == id:\n",
        "            return o"
      ],
      "execution_count": null,
      "outputs": []
    },
    {
      "cell_type": "code",
      "metadata": {
        "id": "2XzR_EPT7yQk"
      },
      "source": [
        "def get_prob(data):\n",
        "    total = 0\n",
        "    cns = 0\n",
        "    prob=1\n",
        "    for subject in data:\n",
        "        for row in subject:\n",
        "            val = int(row['Copy_Number'])\n",
        "            if val == 2:\n",
        "                cns += float(row['End']) - float(row['Start'])\n",
        "            total +=float(row['End']) - float(row['Start'])\n",
        "        prob = (prob* (cns/total)) \n",
        "    return (prob * pow(10,9))"
      ],
      "execution_count": null,
      "outputs": []
    },
    {
      "cell_type": "markdown",
      "metadata": {
        "id": "d5WZ0Q11INCC"
      },
      "source": [
        "**Extract data as objects from dataset**"
      ]
    },
    {
      "cell_type": "code",
      "metadata": {
        "id": "J-kvOJfYHv4k"
      },
      "source": [
        "BRCA_all_data = get_data_as_objects_from_files(path_BRCA, 100)\n",
        "DLBC_all_data = get_data_as_objects_from_files(path_DLBC, 40)"
      ],
      "execution_count": null,
      "outputs": []
    },
    {
      "cell_type": "markdown",
      "metadata": {
        "id": "u9CQQ0DQEnVc"
      },
      "source": [
        "### **Summary of the copy number variation (CNV) analysis**"
      ]
    },
    {
      "cell_type": "markdown",
      "metadata": {
        "id": "DEKHjgLvNp_Q"
      },
      "source": [
        "**Breast Cancer type: TCGA-BRCA**"
      ]
    },
    {
      "cell_type": "code",
      "metadata": {
        "id": "-kf0GozgER_Q",
        "outputId": "6fa3ec55-58e4-40b1-c71f-73be19c4cd7c",
        "colab": {
          "base_uri": "https://localhost:8080/",
          "height": 266
        }
      },
      "source": [
        "percent = lambda part, whole: (float(part) / float(whole)) * 100\n",
        "cns , total = data_analysis(BRCA_all_data)\n",
        "percent = lambda part, whole: (float(part) / float(whole)) * 100\n",
        "copy_numbers = {'CNV Type': ['Total CNVs Length','Deletion (CN = 0)','Deletion (CN = 1)','Deploid (CN = 2)','Duplication (CN = 3)','Duplication (CN = 4)','Duplication (CN > 4)'],\n",
        "        '   Sum of Segments Length': [total,cns[0],cns[1],cns[2],cns[3],cns[4],cns[5]],\n",
        "                'Percentage' : [100,percent(cns[0],total), percent(cns[1],total),percent(cns[2],total),percent(cns[3],total),percent(cns[4],total),percent(cns[5],total)]\n",
        "        }\n",
        "\n",
        "df = pd.DataFrame(copy_numbers, columns = ['CNV Type','Percentage'])\n",
        "df"
      ],
      "execution_count": null,
      "outputs": [
        {
          "output_type": "execute_result",
          "data": {
            "text/html": [
              "<div>\n",
              "<style scoped>\n",
              "    .dataframe tbody tr th:only-of-type {\n",
              "        vertical-align: middle;\n",
              "    }\n",
              "\n",
              "    .dataframe tbody tr th {\n",
              "        vertical-align: top;\n",
              "    }\n",
              "\n",
              "    .dataframe thead th {\n",
              "        text-align: right;\n",
              "    }\n",
              "</style>\n",
              "<table border=\"1\" class=\"dataframe\">\n",
              "  <thead>\n",
              "    <tr style=\"text-align: right;\">\n",
              "      <th></th>\n",
              "      <th>CNV Type</th>\n",
              "      <th>Percentage</th>\n",
              "    </tr>\n",
              "  </thead>\n",
              "  <tbody>\n",
              "    <tr>\n",
              "      <th>0</th>\n",
              "      <td>Total CNVs Length</td>\n",
              "      <td>100.000000</td>\n",
              "    </tr>\n",
              "    <tr>\n",
              "      <th>1</th>\n",
              "      <td>Deletion (CN = 0)</td>\n",
              "      <td>1.091196</td>\n",
              "    </tr>\n",
              "    <tr>\n",
              "      <th>2</th>\n",
              "      <td>Deletion (CN = 1)</td>\n",
              "      <td>8.317083</td>\n",
              "    </tr>\n",
              "    <tr>\n",
              "      <th>3</th>\n",
              "      <td>Deploid (CN = 2)</td>\n",
              "      <td>49.943065</td>\n",
              "    </tr>\n",
              "    <tr>\n",
              "      <th>4</th>\n",
              "      <td>Duplication (CN = 3)</td>\n",
              "      <td>16.170187</td>\n",
              "    </tr>\n",
              "    <tr>\n",
              "      <th>5</th>\n",
              "      <td>Duplication (CN = 4)</td>\n",
              "      <td>16.473890</td>\n",
              "    </tr>\n",
              "    <tr>\n",
              "      <th>6</th>\n",
              "      <td>Duplication (CN &gt; 4)</td>\n",
              "      <td>8.004579</td>\n",
              "    </tr>\n",
              "  </tbody>\n",
              "</table>\n",
              "</div>"
            ],
            "text/plain": [
              "               CNV Type  Percentage\n",
              "0     Total CNVs Length  100.000000\n",
              "1     Deletion (CN = 0)    1.091196\n",
              "2     Deletion (CN = 1)    8.317083\n",
              "3      Deploid (CN = 2)   49.943065\n",
              "4  Duplication (CN = 3)   16.170187\n",
              "5  Duplication (CN = 4)   16.473890\n",
              "6  Duplication (CN > 4)    8.004579"
            ]
          },
          "metadata": {
            "tags": []
          },
          "execution_count": 20
        }
      ]
    },
    {
      "cell_type": "markdown",
      "metadata": {
        "id": "xIIeUnrFNyuB"
      },
      "source": [
        "**Breast Cancer type: TCGA-DLBC**"
      ]
    },
    {
      "cell_type": "code",
      "metadata": {
        "id": "5hivf3noN3MO",
        "outputId": "53a832fd-7d5d-4d3a-b48b-6fd729504261",
        "colab": {
          "base_uri": "https://localhost:8080/",
          "height": 266
        }
      },
      "source": [
        "cns , total = data_analysis(DLBC_all_data)\n",
        "percent = lambda part, whole: (float(part) / float(whole)) * 100\n",
        "copy_numbers = {'CNV Type': ['Total CNVs Length','Deletion (CN = 0)','Deletion (CN = 1)','Deploid (CN = 2)','Duplication (CN = 3)','Duplication (CN = 4)','Duplication (CN > 4)'],\n",
        "        '   Sum of Segments Length': [total,cns[0],cns[1],cns[2],cns[3],cns[4],cns[5]],\n",
        "                'Percentage' : [100,percent(cns[0],total), percent(cns[1],total),percent(cns[2],total),percent(cns[3],total),percent(cns[4],total),percent(cns[5],total)]\n",
        "        }\n",
        "\n",
        "df = pd.DataFrame(copy_numbers, columns = ['CNV Type' ,'Percentage'])\n",
        "df"
      ],
      "execution_count": null,
      "outputs": [
        {
          "output_type": "execute_result",
          "data": {
            "text/html": [
              "<div>\n",
              "<style scoped>\n",
              "    .dataframe tbody tr th:only-of-type {\n",
              "        vertical-align: middle;\n",
              "    }\n",
              "\n",
              "    .dataframe tbody tr th {\n",
              "        vertical-align: top;\n",
              "    }\n",
              "\n",
              "    .dataframe thead th {\n",
              "        text-align: right;\n",
              "    }\n",
              "</style>\n",
              "<table border=\"1\" class=\"dataframe\">\n",
              "  <thead>\n",
              "    <tr style=\"text-align: right;\">\n",
              "      <th></th>\n",
              "      <th>CNV Type</th>\n",
              "      <th>Percentage</th>\n",
              "    </tr>\n",
              "  </thead>\n",
              "  <tbody>\n",
              "    <tr>\n",
              "      <th>0</th>\n",
              "      <td>Total CNVs Length</td>\n",
              "      <td>100.000000</td>\n",
              "    </tr>\n",
              "    <tr>\n",
              "      <th>1</th>\n",
              "      <td>Deletion (CN = 0)</td>\n",
              "      <td>2.088359</td>\n",
              "    </tr>\n",
              "    <tr>\n",
              "      <th>2</th>\n",
              "      <td>Deletion (CN = 1)</td>\n",
              "      <td>5.326148</td>\n",
              "    </tr>\n",
              "    <tr>\n",
              "      <th>3</th>\n",
              "      <td>Deploid (CN = 2)</td>\n",
              "      <td>61.764916</td>\n",
              "    </tr>\n",
              "    <tr>\n",
              "      <th>4</th>\n",
              "      <td>Duplication (CN = 3)</td>\n",
              "      <td>10.149470</td>\n",
              "    </tr>\n",
              "    <tr>\n",
              "      <th>5</th>\n",
              "      <td>Duplication (CN = 4)</td>\n",
              "      <td>14.727591</td>\n",
              "    </tr>\n",
              "    <tr>\n",
              "      <th>6</th>\n",
              "      <td>Duplication (CN &gt; 4)</td>\n",
              "      <td>5.943515</td>\n",
              "    </tr>\n",
              "  </tbody>\n",
              "</table>\n",
              "</div>"
            ],
            "text/plain": [
              "               CNV Type  Percentage\n",
              "0     Total CNVs Length  100.000000\n",
              "1     Deletion (CN = 0)    2.088359\n",
              "2     Deletion (CN = 1)    5.326148\n",
              "3      Deploid (CN = 2)   61.764916\n",
              "4  Duplication (CN = 3)   10.149470\n",
              "5  Duplication (CN = 4)   14.727591\n",
              "6  Duplication (CN > 4)    5.943515"
            ]
          },
          "metadata": {
            "tags": []
          },
          "execution_count": 21
        }
      ]
    },
    {
      "cell_type": "markdown",
      "metadata": {
        "id": "PdWlLgsgiRRv"
      },
      "source": [
        "### **Comparition between two subjects by copy number percentage**\n",
        "\n",
        "**Breast Cancer type: TCGA-BRCA**"
      ]
    },
    {
      "cell_type": "code",
      "metadata": {
        "id": "Oc5MtvaLiPnN",
        "outputId": "eea67711-9198-4956-861a-7813ab8e6529",
        "colab": {
          "base_uri": "https://localhost:8080/",
          "height": 297
        }
      },
      "source": [
        "import matplotlib.pyplot as plt\n",
        "import numpy as np\n",
        "\n",
        "#lowest = get_by_id('f875e50e-fc0f-4421-8ffb-4fec24d3340c',BRCA_all_data)\n",
        "cns1 , total1 = data_analysis([BRCA_all_data[3]])\n",
        "cns2 , total2 = data_analysis([BRCA_all_data[0]])\n",
        "labels = ['CN 0', 'CN 1', 'CN 2', 'CN 3','CN 4' ,'CN > 4']\n",
        "subject1 = [round(percent(cns1[0],total1),2), round(percent(cns1[1],total1),2),round(percent(cns1[2],total1),2),round(percent(cns1[3],total1),2),round(percent(cns1[4],total1),2),round(percent(cns1[5],total1),2)]\n",
        "subject2 = [round(percent(cns2[0],total2),2), round(percent(cns2[1],total2),2),round(percent(cns2[2],total2),2),round(percent(cns2[3],total2),2),round(percent(cns2[4],total2),2),round(percent(cns2[5],total2),2)]\n",
        "\n",
        "x = np.arange(len(labels))  # the label locations\n",
        "width = 0.35  # the width of the bars\n",
        "\n",
        "fig, ax = plt.subplots()\n",
        "rects1 = ax.bar(x - width/2, subject1, width, label='Subject 1')\n",
        "rects2 = ax.bar(x + width/2, subject2, width, label='Subject 2')\n",
        "\n",
        "# Add some text for labels, title and custom x-axis tick labels, etc.\n",
        "ax.set_ylabel('Percentage')\n",
        "ax.set_title('CNV Sum of Segments Length Per CN')\n",
        "ax.set_xticks(x)\n",
        "ax.set_xticklabels(labels)\n",
        "ax.legend()\n",
        "\n",
        "\n",
        "def autolabel(rects):\n",
        "    \"\"\"Attach a text label above each bar in *rects*, displaying its height.\"\"\"\n",
        "    for rect in rects:\n",
        "        height = rect.get_height()\n",
        "        ax.annotate('{}%'.format(height),\n",
        "                    xy=(rect.get_x() + rect.get_width() / 2, height),\n",
        "                    xytext=(0, 3),  # 3 points vertical offset\n",
        "                    textcoords=\"offset points\",\n",
        "                    ha='center', va='bottom')\n",
        "\n",
        "\n",
        "autolabel(rects1)\n",
        "autolabel(rects2)\n",
        "\n",
        "fig.tight_layout()\n",
        "\n",
        "plt.show()"
      ],
      "execution_count": null,
      "outputs": [
        {
          "output_type": "display_data",
          "data": {
            "image/png": "[encoded data removed]",
            "text/plain": [
              "<Figure size 432x288 with 1 Axes>"
            ]
          },
          "metadata": {
            "tags": [],
            "needs_background": "light"
          }
        }
      ]
    },
    {
      "cell_type": "markdown",
      "metadata": {
        "id": "5_yiKyBa1_0B"
      },
      "source": [
        "**Breast Cancer type: TCGA-DLBC**"
      ]
    },
    {
      "cell_type": "code",
      "metadata": {
        "id": "5KlPcHh02HEG",
        "outputId": "d2984f16-a093-4d5c-872c-cfb66191e969",
        "colab": {
          "base_uri": "https://localhost:8080/",
          "height": 297
        }
      },
      "source": [
        "#lowest = get_by_id('f875e50e-fc0f-4421-8ffb-4fec24d3340c',BRCA_all_data)\n",
        "cns1 , total1 = data_analysis([DLBC_all_data[3]])\n",
        "cns2 , total2 = data_analysis([DLBC_all_data[0]])\n",
        "labels = ['CN 0', 'CN 1', 'CN 2', 'CN 3','CN 4' ,'CN > 4']\n",
        "subject1 = [round(percent(cns1[0],total1),2), round(percent(cns1[1],total1),2),round(percent(cns1[2],total1),2),round(percent(cns1[3],total1),2),round(percent(cns1[4],total1),2),round(percent(cns1[5],total1),2)]\n",
        "subject2 = [round(percent(cns2[0],total2),2), round(percent(cns2[1],total2),2),round(percent(cns2[2],total2),2),round(percent(cns2[3],total2),2),round(percent(cns2[4],total2),2),round(percent(cns2[5],total2),2)]\n",
        "\n",
        "x = np.arange(len(labels))  # the label locations\n",
        "width = 0.35  # the width of the bars\n",
        "\n",
        "fig, ax = plt.subplots()\n",
        "rects1 = ax.bar(x - width/2, subject1, width, label='Subject 1')\n",
        "rects2 = ax.bar(x + width/2, subject2, width, label='Subject 2')\n",
        "\n",
        "# Add some text for labels, title and custom x-axis tick labels, etc.\n",
        "ax.set_ylabel('Percentage')\n",
        "ax.set_title('CNV Sum of Segments Length Per CN')\n",
        "ax.set_xticks(x)\n",
        "ax.set_xticklabels(labels)\n",
        "ax.legend()\n",
        "\n",
        "autolabel(rects1)\n",
        "autolabel(rects2)\n",
        "\n",
        "fig.tight_layout()\n",
        "\n",
        "plt.show()"
      ],
      "execution_count": null,
      "outputs": [
        {
          "output_type": "display_data",
          "data": {
            "image/png": "[encoded data removed]",
            "text/plain": [
              "<Figure size 432x288 with 1 Axes>"
            ]
          },
          "metadata": {
            "tags": [],
            "needs_background": "light"
          }
        }
      ]
    },
    {
      "cell_type": "markdown",
      "metadata": {
        "id": "WErmr-pKL3Fc"
      },
      "source": [
        "### **Overlap between all subjects (1000) with unchanged copy number (cp = 2)**"
      ]
    },
    {
      "cell_type": "markdown",
      "metadata": {
        "id": "ZVWxUPc1Fnsz"
      },
      "source": [
        "**Breast Cancer type: TCGA-BRCA**"
      ]
    },
    {
      "cell_type": "code",
      "metadata": {
        "id": "5FTm7FOfN76z",
        "outputId": "43d0d103-3eac-4688-d81a-991aabca0129",
        "colab": {
          "base_uri": "https://localhost:8080/",
          "height": 1000
        }
      },
      "source": [
        "BRCA_data2 = get_data(path_BRCA, 2)\n",
        "BRCA_data3 = get_data(path_BRCA, 3)\n",
        "BRCA_data4 = get_data(path_BRCA, 4)\n",
        "BRCA_data5 = get_data(path_BRCA, 5)\n",
        "BRCA_data6 = get_data(path_BRCA, 6)\n",
        "make_line_plot(BRCA_data3['sections'], 'TCGA-BRCA 3 subjects')\n",
        "make_line_plot(BRCA_data4['sections'], 'TCGA-BRCA 4 subjects')\n",
        "make_line_plot(BRCA_data5['sections'], 'TCGA-BRCA 5 subjects')\n",
        "make_line_plot(BRCA_data6['sections'], 'TCGA-BRCA 6 subjects')"
      ],
      "execution_count": null,
      "outputs": [
        {
          "output_type": "display_data",
          "data": {
            "image/png": "[encoded data removed]",
            "text/plain": [
              "<Figure size 432x288 with 1 Axes>"
            ]
          },
          "metadata": {
            "tags": [],
            "needs_background": "light"
          }
        },
        {
          "output_type": "display_data",
          "data": {
            "image/png": "[encoded data removed]",
            "text/plain": [
              "<Figure size 432x288 with 1 Axes>"
            ]
          },
          "metadata": {
            "tags": [],
            "needs_background": "light"
          }
        },
        {
          "output_type": "display_data",
          "data": {
            "image/png": "[encoded data removed]",
            "text/plain": [
              "<Figure size 432x288 with 1 Axes>"
            ]
          },
          "metadata": {
            "tags": [],
            "needs_background": "light"
          }
        },
        {
          "output_type": "display_data",
          "data": {
            "image/png": "[encoded data removed]",
            "text/plain": [
              "<Figure size 432x288 with 1 Axes>"
            ]
          },
          "metadata": {
            "tags": [],
            "needs_background": "light"
          }
        }
      ]
    },
    {
      "cell_type": "markdown",
      "metadata": {
        "id": "qkfYhK9MF_KH"
      },
      "source": [
        "**Breast Cancer type: TCGA-DLBC**"
      ]
    },
    {
      "cell_type": "code",
      "metadata": {
        "id": "Ao9qx1oXDmHf",
        "outputId": "4a55517a-0c62-45f5-abda-8d228a40c350",
        "colab": {
          "base_uri": "https://localhost:8080/",
          "height": 835
        }
      },
      "source": [
        "DLBC_data2 = get_data(path_DLBC, 2)\n",
        "DLBC_data3 = get_data(path_DLBC, 3)\n",
        "DLBC_data4 = get_data(path_DLBC, 4)\n",
        "DLBC_data5 = get_data(path_DLBC, 5)\n",
        "DLBC_data6 = get_data(path_DLBC, 6)\n",
        "DLBC_data7 = get_data(path_DLBC, 7)\n",
        "DLBC_data8 = get_data(path_DLBC, 8)\n",
        "DLBC_data9 = get_data(path_DLBC, 9)\n",
        "DLBC_data10 = get_data(path_DLBC, 10)\n",
        "DLBC_data11 = get_data(path_DLBC, 11)\n",
        "DLBC_data12 = get_data(path_DLBC, 12)\n",
        "# make_line_plot(DLBC_data3['sections'], 'TCGA-DLBC 3 subjects')\n",
        "# make_line_plot(DLBC_data4['sections'], 'TCGA-DLBC 4 subjects')\n",
        "make_line_plot(DLBC_data3['sections'], 'TCGA-DLBC 3 subjects')\n",
        "make_line_plot(DLBC_data9['sections'], 'TCGA-DLBC 9 subjects')\n",
        "make_line_plot(DLBC_data12['sections'], 'TCGA-DLBC 12 subjects')"
      ],
      "execution_count": null,
      "outputs": [
        {
          "output_type": "display_data",
          "data": {
            "image/png": "[encoded data removed]",
            "text/plain": [
              "<Figure size 432x288 with 1 Axes>"
            ]
          },
          "metadata": {
            "tags": [],
            "needs_background": "light"
          }
        },
        {
          "output_type": "display_data",
          "data": {
            "image/png": "[encoded data removed]",
            "text/plain": [
              "<Figure size 432x288 with 1 Axes>"
            ]
          },
          "metadata": {
            "tags": [],
            "needs_background": "light"
          }
        },
        {
          "output_type": "display_data",
          "data": {
            "image/png": "[encoded data removed]",
            "text/plain": [
              "<Figure size 432x288 with 1 Axes>"
            ]
          },
          "metadata": {
            "tags": [],
            "needs_background": "light"
          }
        }
      ]
    },
    {
      "cell_type": "markdown",
      "metadata": {
        "id": "eXylofadcNZF"
      },
      "source": [
        "**Showing decsent in number of overlaps depends the size of the group**"
      ]
    },
    {
      "cell_type": "code",
      "metadata": {
        "id": "06dDZIfdcMiM",
        "outputId": "7aee25e7-dc63-480a-c7ed-50ed3e1cb0e1",
        "colab": {
          "base_uri": "https://localhost:8080/",
          "height": 307
        }
      },
      "source": [
        "all_overlaps1 = [get_num_of_overlaps(BRCA_data2), get_num_of_overlaps(BRCA_data3), get_num_of_overlaps(BRCA_data4),get_num_of_overlaps(BRCA_data5),\n",
        "                get_num_of_overlaps(BRCA_data6)]\n",
        "x1 = [0 for y in range(6, 11)]\n",
        "subj1 = np.concatenate(([2,3,4,5,6], [y for y in range(7, 12)]))\n",
        "conc1 = np.concatenate((all_overlaps1, x1))\n",
        "\n",
        "\n",
        "\n",
        "plt.xlabel('num of subjects')\n",
        "plt.ylabel('length of all overlaps (x10^9)')\n",
        "plt.plot(subj1, conc1)\n",
        "\n",
        "\n",
        "plt.legend([\"TCGA-BRCA\"])"
      ],
      "execution_count": null,
      "outputs": [
        {
          "output_type": "execute_result",
          "data": {
            "text/plain": [
              "<matplotlib.legend.Legend at 0x7fef87a05748>"
            ]
          },
          "metadata": {
            "tags": []
          },
          "execution_count": 26
        },
        {
          "output_type": "display_data",
          "data": {
            "image/png": "[encoded data removed]",
            "text/plain": [
              "<Figure size 432x288 with 1 Axes>"
            ]
          },
          "metadata": {
            "tags": [],
            "needs_background": "light"
          }
        }
      ]
    },
    {
      "cell_type": "code",
      "metadata": {
        "id": "NARSczJ0m8fW",
        "outputId": "542f2218-113e-4d93-efd8-e8886dcac469",
        "colab": {
          "base_uri": "https://localhost:8080/",
          "height": 293
        }
      },
      "source": [
        "all_overlaps2 = [get_num_of_overlaps(DLBC_data2), get_num_of_overlaps(DLBC_data3), get_num_of_overlaps(DLBC_data4),get_num_of_overlaps(DLBC_data5),\n",
        "                get_num_of_overlaps(DLBC_data6), get_num_of_overlaps(DLBC_data7), get_num_of_overlaps(DLBC_data8), get_num_of_overlaps(DLBC_data9),\n",
        "                get_num_of_overlaps(DLBC_data10), get_num_of_overlaps(DLBC_data11)]\n",
        "\n",
        "x2 = [0 for y in range(11, 11)]\n",
        "subj2 = np.concatenate(([2,3,4,5,6,7,8,9,10], [y for y in range(11, 12)]))\n",
        "conc2 = np.concatenate((all_overlaps2, x2))\n",
        "\n",
        "plt.plot(subj2, conc2)\n",
        "plt.legend([\"TCGA-DLBC\"])"
      ],
      "execution_count": null,
      "outputs": [
        {
          "output_type": "execute_result",
          "data": {
            "text/plain": [
              "<matplotlib.legend.Legend at 0x7fef878375f8>"
            ]
          },
          "metadata": {
            "tags": []
          },
          "execution_count": 27
        },
        {
          "output_type": "display_data",
          "data": {
            "image/png": "[encoded data removed]",
            "text/plain": [
              "<Figure size 432x288 with 1 Axes>"
            ]
          },
          "metadata": {
            "tags": [],
            "needs_background": "light"
          }
        }
      ]
    },
    {
      "cell_type": "markdown",
      "metadata": {
        "id": "rVRy_wk770xd"
      },
      "source": [
        "### Probability for overlap between N subjects with cn = 2 \n",
        "**Breast Cancer type: TCGA-BRCA**"
      ]
    },
    {
      "cell_type": "code",
      "metadata": {
        "id": "ePlLEhhf8Yso",
        "outputId": "1219a73e-828f-4326-a50a-c57116ca32f1",
        "colab": {
          "base_uri": "https://localhost:8080/",
          "height": 34
        }
      },
      "source": [
        "get_prob(BRCA_all_data[:50])"
      ],
      "execution_count": null,
      "outputs": [
        {
          "output_type": "execute_result",
          "data": {
            "text/plain": [
              "1.0663581808761247e-06"
            ]
          },
          "metadata": {
            "tags": []
          },
          "execution_count": 35
        }
      ]
    },
    {
      "cell_type": "markdown",
      "metadata": {
        "id": "PFjajc6x8wkg"
      },
      "source": [
        "**Breast Cancer type: TCGA-DLBC**"
      ]
    },
    {
      "cell_type": "code",
      "metadata": {
        "id": "SV9MbkCt8jJm",
        "outputId": "184cd637-a3a1-4f98-e3b3-05c7897929fc",
        "colab": {
          "base_uri": "https://localhost:8080/",
          "height": 34
        }
      },
      "source": [
        "get_prob(DLBC_all_data[:50])"
      ],
      "execution_count": null,
      "outputs": [
        {
          "output_type": "execute_result",
          "data": {
            "text/plain": [
              "0.05942628246569958"
            ]
          },
          "metadata": {
            "tags": []
          },
          "execution_count": 40
        }
      ]
    }
  ]
}